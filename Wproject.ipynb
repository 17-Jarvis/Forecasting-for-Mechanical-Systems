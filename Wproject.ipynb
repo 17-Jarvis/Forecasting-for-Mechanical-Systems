{
 "cells": [
  {
   "cell_type": "code",
   "execution_count": 1,
   "id": "d15cb253",
   "metadata": {},
   "outputs": [],
   "source": [
    "import pandas as pd\n",
    "import numpy as np\n",
    "import matplotlib.pyplot as plt\n"
   ]
  },
  {
   "cell_type": "code",
   "execution_count": 2,
   "id": "574be652",
   "metadata": {},
   "outputs": [],
   "source": [
    "df=pd.read_csv('D:\\\\Downloads\\\\Down\\\\FFT_project\\\\Project\\\\forecasting (ml)\\\\data3.csv')"
   ]
  },
  {
   "cell_type": "code",
   "execution_count": 3,
   "id": "769634cc",
   "metadata": {},
   "outputs": [
    {
     "data": {
      "text/html": [
       "<div>\n",
       "<style scoped>\n",
       "    .dataframe tbody tr th:only-of-type {\n",
       "        vertical-align: middle;\n",
       "    }\n",
       "\n",
       "    .dataframe tbody tr th {\n",
       "        vertical-align: top;\n",
       "    }\n",
       "\n",
       "    .dataframe thead th {\n",
       "        text-align: right;\n",
       "    }\n",
       "</style>\n",
       "<table border=\"1\" class=\"dataframe\">\n",
       "  <thead>\n",
       "    <tr style=\"text-align: right;\">\n",
       "      <th></th>\n",
       "      <th>0</th>\n",
       "      <th>-0.061186</th>\n",
       "    </tr>\n",
       "  </thead>\n",
       "  <tbody>\n",
       "    <tr>\n",
       "      <th>0</th>\n",
       "      <td>0.00004</td>\n",
       "      <td>-0.053024</td>\n",
       "    </tr>\n",
       "    <tr>\n",
       "      <th>1</th>\n",
       "      <td>0.00008</td>\n",
       "      <td>0.073594</td>\n",
       "    </tr>\n",
       "    <tr>\n",
       "      <th>2</th>\n",
       "      <td>0.00012</td>\n",
       "      <td>-0.179009</td>\n",
       "    </tr>\n",
       "    <tr>\n",
       "      <th>3</th>\n",
       "      <td>0.00016</td>\n",
       "      <td>-0.016872</td>\n",
       "    </tr>\n",
       "    <tr>\n",
       "      <th>4</th>\n",
       "      <td>0.00020</td>\n",
       "      <td>0.014743</td>\n",
       "    </tr>\n",
       "  </tbody>\n",
       "</table>\n",
       "</div>"
      ],
      "text/plain": [
       "         0  -0.061186\n",
       "0  0.00004  -0.053024\n",
       "1  0.00008   0.073594\n",
       "2  0.00012  -0.179009\n",
       "3  0.00016  -0.016872\n",
       "4  0.00020   0.014743"
      ]
     },
     "execution_count": 3,
     "metadata": {},
     "output_type": "execute_result"
    }
   ],
   "source": [
    "df.head(5)"
   ]
  },
  {
   "cell_type": "code",
   "execution_count": 4,
   "id": "e3c09eed",
   "metadata": {},
   "outputs": [
    {
     "data": {
      "text/html": [
       "<div>\n",
       "<style scoped>\n",
       "    .dataframe tbody tr th:only-of-type {\n",
       "        vertical-align: middle;\n",
       "    }\n",
       "\n",
       "    .dataframe tbody tr th {\n",
       "        vertical-align: top;\n",
       "    }\n",
       "\n",
       "    .dataframe thead th {\n",
       "        text-align: right;\n",
       "    }\n",
       "</style>\n",
       "<table border=\"1\" class=\"dataframe\">\n",
       "  <thead>\n",
       "    <tr style=\"text-align: right;\">\n",
       "      <th></th>\n",
       "      <th>Time</th>\n",
       "      <th>Fault</th>\n",
       "    </tr>\n",
       "  </thead>\n",
       "  <tbody>\n",
       "    <tr>\n",
       "      <th>0</th>\n",
       "      <td>0.00004</td>\n",
       "      <td>-0.053024</td>\n",
       "    </tr>\n",
       "    <tr>\n",
       "      <th>1</th>\n",
       "      <td>0.00008</td>\n",
       "      <td>0.073594</td>\n",
       "    </tr>\n",
       "    <tr>\n",
       "      <th>2</th>\n",
       "      <td>0.00012</td>\n",
       "      <td>-0.179009</td>\n",
       "    </tr>\n",
       "    <tr>\n",
       "      <th>3</th>\n",
       "      <td>0.00016</td>\n",
       "      <td>-0.016872</td>\n",
       "    </tr>\n",
       "    <tr>\n",
       "      <th>4</th>\n",
       "      <td>0.00020</td>\n",
       "      <td>0.014743</td>\n",
       "    </tr>\n",
       "  </tbody>\n",
       "</table>\n",
       "</div>"
      ],
      "text/plain": [
       "      Time     Fault\n",
       "0  0.00004 -0.053024\n",
       "1  0.00008  0.073594\n",
       "2  0.00012 -0.179009\n",
       "3  0.00016 -0.016872\n",
       "4  0.00020  0.014743"
      ]
     },
     "execution_count": 4,
     "metadata": {},
     "output_type": "execute_result"
    }
   ],
   "source": [
    "df.columns=['Time','Fault']\n",
    "df.head(5)"
   ]
  },
  {
   "cell_type": "code",
   "execution_count": 6,
   "id": "d4f71544",
   "metadata": {},
   "outputs": [],
   "source": [
    "#df.set_index(\"Time\",inplace=True)"
   ]
  },
  {
   "cell_type": "code",
   "execution_count": 5,
   "id": "5a98659a",
   "metadata": {},
   "outputs": [
    {
     "data": {
      "text/html": [
       "<div>\n",
       "<style scoped>\n",
       "    .dataframe tbody tr th:only-of-type {\n",
       "        vertical-align: middle;\n",
       "    }\n",
       "\n",
       "    .dataframe tbody tr th {\n",
       "        vertical-align: top;\n",
       "    }\n",
       "\n",
       "    .dataframe thead th {\n",
       "        text-align: right;\n",
       "    }\n",
       "</style>\n",
       "<table border=\"1\" class=\"dataframe\">\n",
       "  <thead>\n",
       "    <tr style=\"text-align: right;\">\n",
       "      <th></th>\n",
       "      <th>Time</th>\n",
       "      <th>Fault</th>\n",
       "    </tr>\n",
       "  </thead>\n",
       "  <tbody>\n",
       "    <tr>\n",
       "      <th>0</th>\n",
       "      <td>0.00004</td>\n",
       "      <td>-0.053024</td>\n",
       "    </tr>\n",
       "    <tr>\n",
       "      <th>1</th>\n",
       "      <td>0.00008</td>\n",
       "      <td>0.073594</td>\n",
       "    </tr>\n",
       "    <tr>\n",
       "      <th>2</th>\n",
       "      <td>0.00012</td>\n",
       "      <td>-0.179009</td>\n",
       "    </tr>\n",
       "    <tr>\n",
       "      <th>3</th>\n",
       "      <td>0.00016</td>\n",
       "      <td>-0.016872</td>\n",
       "    </tr>\n",
       "    <tr>\n",
       "      <th>4</th>\n",
       "      <td>0.00020</td>\n",
       "      <td>0.014743</td>\n",
       "    </tr>\n",
       "  </tbody>\n",
       "</table>\n",
       "</div>"
      ],
      "text/plain": [
       "      Time     Fault\n",
       "0  0.00004 -0.053024\n",
       "1  0.00008  0.073594\n",
       "2  0.00012 -0.179009\n",
       "3  0.00016 -0.016872\n",
       "4  0.00020  0.014743"
      ]
     },
     "execution_count": 5,
     "metadata": {},
     "output_type": "execute_result"
    }
   ],
   "source": [
    "df.head(5)"
   ]
  },
  {
   "cell_type": "code",
   "execution_count": 6,
   "id": "c87a6edc",
   "metadata": {},
   "outputs": [
    {
     "data": {
      "text/plain": [
       "0"
      ]
     },
     "execution_count": 6,
     "metadata": {},
     "output_type": "execute_result"
    }
   ],
   "source": [
    "df['Fault'].isnull().sum()"
   ]
  },
  {
   "cell_type": "code",
   "execution_count": 7,
   "id": "86327917",
   "metadata": {},
   "outputs": [
    {
     "data": {
      "text/html": [
       "<div>\n",
       "<style scoped>\n",
       "    .dataframe tbody tr th:only-of-type {\n",
       "        vertical-align: middle;\n",
       "    }\n",
       "\n",
       "    .dataframe tbody tr th {\n",
       "        vertical-align: top;\n",
       "    }\n",
       "\n",
       "    .dataframe thead th {\n",
       "        text-align: right;\n",
       "    }\n",
       "</style>\n",
       "<table border=\"1\" class=\"dataframe\">\n",
       "  <thead>\n",
       "    <tr style=\"text-align: right;\">\n",
       "      <th></th>\n",
       "      <th>Time</th>\n",
       "      <th>Fault</th>\n",
       "    </tr>\n",
       "  </thead>\n",
       "  <tbody>\n",
       "    <tr>\n",
       "      <th>count</th>\n",
       "      <td>47999.00000</td>\n",
       "      <td>47999.000000</td>\n",
       "    </tr>\n",
       "    <tr>\n",
       "      <th>mean</th>\n",
       "      <td>0.96000</td>\n",
       "      <td>-0.003874</td>\n",
       "    </tr>\n",
       "    <tr>\n",
       "      <th>std</th>\n",
       "      <td>0.55425</td>\n",
       "      <td>0.187270</td>\n",
       "    </tr>\n",
       "    <tr>\n",
       "      <th>min</th>\n",
       "      <td>0.00004</td>\n",
       "      <td>-2.138630</td>\n",
       "    </tr>\n",
       "    <tr>\n",
       "      <th>25%</th>\n",
       "      <td>0.48002</td>\n",
       "      <td>-0.087278</td>\n",
       "    </tr>\n",
       "    <tr>\n",
       "      <th>50%</th>\n",
       "      <td>0.96000</td>\n",
       "      <td>-0.001411</td>\n",
       "    </tr>\n",
       "    <tr>\n",
       "      <th>75%</th>\n",
       "      <td>1.43998</td>\n",
       "      <td>0.084018</td>\n",
       "    </tr>\n",
       "    <tr>\n",
       "      <th>max</th>\n",
       "      <td>1.91996</td>\n",
       "      <td>1.638010</td>\n",
       "    </tr>\n",
       "  </tbody>\n",
       "</table>\n",
       "</div>"
      ],
      "text/plain": [
       "              Time         Fault\n",
       "count  47999.00000  47999.000000\n",
       "mean       0.96000     -0.003874\n",
       "std        0.55425      0.187270\n",
       "min        0.00004     -2.138630\n",
       "25%        0.48002     -0.087278\n",
       "50%        0.96000     -0.001411\n",
       "75%        1.43998      0.084018\n",
       "max        1.91996      1.638010"
      ]
     },
     "execution_count": 7,
     "metadata": {},
     "output_type": "execute_result"
    }
   ],
   "source": [
    "df.describe()"
   ]
  },
  {
   "cell_type": "code",
   "execution_count": 8,
   "id": "a25ad349",
   "metadata": {},
   "outputs": [
    {
     "data": {
      "text/plain": [
       "<Axes: ylabel='Density'>"
      ]
     },
     "execution_count": 8,
     "metadata": {},
     "output_type": "execute_result"
    },
    {
     "data": {
      "image/png": "[encoded data removed]",
      "text/plain": [
       "<Figure size 640x480 with 1 Axes>"
      ]
     },
     "metadata": {},
     "output_type": "display_data"
    }
   ],
   "source": [
    "df['Fault'].plot(kind='kde')"
   ]
  },
  {
   "cell_type": "markdown",
   "id": "d9c6860d",
   "metadata": {},
   "source": [
    "Observation:\n",
    " 1. All the values lies between 0 and 1 implies of standard distribution \n",
    " 2. Gaussian Distribution"
   ]
  },
  {
   "cell_type": "code",
   "execution_count": 9,
   "id": "69a528bb",
   "metadata": {},
   "outputs": [],
   "source": [
    "from statsmodels.tsa.stattools import adfuller"
   ]
  },
  {
   "cell_type": "code",
   "execution_count": 10,
   "id": "4cf9a336",
   "metadata": {},
   "outputs": [],
   "source": [
    "def adf_test(series):\n",
    "    result=adfuller(series)\n",
    "    print('ADF Statistics: {}'.format(result[0]))\n",
    "    print('p- value: {}'.format(result[1]))\n",
    "    if result[1] <= 0.05:\n",
    "        print(\"strong evidence against the null hypothesis, reject the null hypothesis. Data has no unit root and is stationary\")\n",
    "    else:\n",
    "        print(\"weak evidence against null hypothesis, time series has a unit root, indicating it is non-stationary \")"
   ]
  },
  {
   "cell_type": "code",
   "execution_count": 11,
   "id": "c7b632c5",
   "metadata": {},
   "outputs": [
    {
     "name": "stdout",
     "output_type": "stream",
     "text": [
      "ADF Statistics: -25.215495731675237\n",
      "p- value: 0.0\n",
      "strong evidence against the null hypothesis, reject the null hypothesis. Data has no unit root and is stationary\n"
     ]
    }
   ],
   "source": [
    "adf_test(df['Fault'])"
   ]
  },
  {
   "cell_type": "code",
   "execution_count": 12,
   "id": "8afabcf1",
   "metadata": {},
   "outputs": [
    {
     "data": {
      "text/plain": [
       "0       -0.053024\n",
       "1        0.073594\n",
       "2       -0.179009\n",
       "3       -0.016872\n",
       "4        0.014743\n",
       "           ...   \n",
       "47994   -0.043414\n",
       "47995   -0.265752\n",
       "47996   -0.207242\n",
       "47997   -0.051284\n",
       "47998   -0.033014\n",
       "Name: Fault, Length: 47999, dtype: float64"
      ]
     },
     "execution_count": 12,
     "metadata": {},
     "output_type": "execute_result"
    }
   ],
   "source": [
    "\n",
    "x=df['Fault']\n",
    "x"
   ]
  },
  {
   "cell_type": "code",
   "execution_count": 13,
   "id": "aedfdf8a",
   "metadata": {},
   "outputs": [
    {
     "data": {
      "text/plain": [
       "0        0.00004\n",
       "1        0.00008\n",
       "2        0.00012\n",
       "3        0.00016\n",
       "4        0.00020\n",
       "          ...   \n",
       "47994    1.91980\n",
       "47995    1.91984\n",
       "47996    1.91988\n",
       "47997    1.91992\n",
       "47998    1.91996\n",
       "Name: Time, Length: 47999, dtype: float64"
      ]
     },
     "execution_count": 13,
     "metadata": {},
     "output_type": "execute_result"
    }
   ],
   "source": [
    "y=df['Time']\n",
    "y"
   ]
  },
  {
   "cell_type": "code",
   "execution_count": 14,
   "id": "450a4bd3",
   "metadata": {},
   "outputs": [
    {
     "data": {
      "text/plain": [
       "<matplotlib.collections.PathCollection at 0x2066ffdead0>"
      ]
     },
     "execution_count": 14,
     "metadata": {},
     "output_type": "execute_result"
    },
    {
     "data": {
      "image/png": "[encoded data removed]",
      "text/plain": [
       "<Figure size 640x480 with 1 Axes>"
      ]
     },
     "metadata": {},
     "output_type": "display_data"
    }
   ],
   "source": [
    "plt.scatter(x,y)"
   ]
  },
  {
   "cell_type": "code",
   "execution_count": 15,
   "id": "146d8784",
   "metadata": {},
   "outputs": [],
   "source": [
    "from statsmodels.graphics.tsaplots import plot_acf,plot_pacf"
   ]
  },
  {
   "cell_type": "code",
   "execution_count": 16,
   "id": "ba541efa",
   "metadata": {},
   "outputs": [
    {
     "data": {
      "image/png": "[encoded data removed]",
      "text/plain": [
       "<Figure size 640x480 with 1 Axes>"
      ]
     },
     "metadata": {},
     "output_type": "display_data"
    }
   ],
   "source": [
    "acf=plot_acf(df['Fault'].dropna())"
   ]
  },
  {
   "cell_type": "code",
   "execution_count": 17,
   "id": "5b1dbd36",
   "metadata": {},
   "outputs": [
    {
     "data": {
      "image/png": "[encoded data removed]",
      "text/plain": [
       "<Figure size 640x480 with 1 Axes>"
      ]
     },
     "metadata": {},
     "output_type": "display_data"
    }
   ],
   "source": [
    "pacf=plot_pacf(df['Fault'].dropna())"
   ]
  },
  {
   "cell_type": "markdown",
   "id": "3e83d29f",
   "metadata": {},
   "source": [
    "Implementation using Time as feature"
   ]
  },
  {
   "cell_type": "code",
   "execution_count": 18,
   "id": "b648461b",
   "metadata": {},
   "outputs": [],
   "source": [
    "train=df.iloc[:40000,:]"
   ]
  },
  {
   "cell_type": "code",
   "execution_count": 19,
   "id": "722a9fc6",
   "metadata": {},
   "outputs": [
    {
     "data": {
      "text/html": [
       "<div>\n",
       "<style scoped>\n",
       "    .dataframe tbody tr th:only-of-type {\n",
       "        vertical-align: middle;\n",
       "    }\n",
       "\n",
       "    .dataframe tbody tr th {\n",
       "        vertical-align: top;\n",
       "    }\n",
       "\n",
       "    .dataframe thead th {\n",
       "        text-align: right;\n",
       "    }\n",
       "</style>\n",
       "<table border=\"1\" class=\"dataframe\">\n",
       "  <thead>\n",
       "    <tr style=\"text-align: right;\">\n",
       "      <th></th>\n",
       "      <th>Time</th>\n",
       "      <th>Fault</th>\n",
       "    </tr>\n",
       "  </thead>\n",
       "  <tbody>\n",
       "    <tr>\n",
       "      <th>0</th>\n",
       "      <td>0.00004</td>\n",
       "      <td>-0.053024</td>\n",
       "    </tr>\n",
       "    <tr>\n",
       "      <th>1</th>\n",
       "      <td>0.00008</td>\n",
       "      <td>0.073594</td>\n",
       "    </tr>\n",
       "    <tr>\n",
       "      <th>2</th>\n",
       "      <td>0.00012</td>\n",
       "      <td>-0.179009</td>\n",
       "    </tr>\n",
       "    <tr>\n",
       "      <th>3</th>\n",
       "      <td>0.00016</td>\n",
       "      <td>-0.016872</td>\n",
       "    </tr>\n",
       "    <tr>\n",
       "      <th>4</th>\n",
       "      <td>0.00020</td>\n",
       "      <td>0.014743</td>\n",
       "    </tr>\n",
       "    <tr>\n",
       "      <th>...</th>\n",
       "      <td>...</td>\n",
       "      <td>...</td>\n",
       "    </tr>\n",
       "    <tr>\n",
       "      <th>39995</th>\n",
       "      <td>1.59984</td>\n",
       "      <td>0.756468</td>\n",
       "    </tr>\n",
       "    <tr>\n",
       "      <th>39996</th>\n",
       "      <td>1.59988</td>\n",
       "      <td>0.153172</td>\n",
       "    </tr>\n",
       "    <tr>\n",
       "      <th>39997</th>\n",
       "      <td>1.59992</td>\n",
       "      <td>0.100294</td>\n",
       "    </tr>\n",
       "    <tr>\n",
       "      <th>39998</th>\n",
       "      <td>1.59996</td>\n",
       "      <td>-0.090915</td>\n",
       "    </tr>\n",
       "    <tr>\n",
       "      <th>39999</th>\n",
       "      <td>1.60000</td>\n",
       "      <td>-0.040118</td>\n",
       "    </tr>\n",
       "  </tbody>\n",
       "</table>\n",
       "<p>40000 rows × 2 columns</p>\n",
       "</div>"
      ],
      "text/plain": [
       "          Time     Fault\n",
       "0      0.00004 -0.053024\n",
       "1      0.00008  0.073594\n",
       "2      0.00012 -0.179009\n",
       "3      0.00016 -0.016872\n",
       "4      0.00020  0.014743\n",
       "...        ...       ...\n",
       "39995  1.59984  0.756468\n",
       "39996  1.59988  0.153172\n",
       "39997  1.59992  0.100294\n",
       "39998  1.59996 -0.090915\n",
       "39999  1.60000 -0.040118\n",
       "\n",
       "[40000 rows x 2 columns]"
      ]
     },
     "execution_count": 19,
     "metadata": {},
     "output_type": "execute_result"
    }
   ],
   "source": [
    "train"
   ]
  },
  {
   "cell_type": "code",
   "execution_count": 22,
   "id": "bcc87099",
   "metadata": {},
   "outputs": [],
   "source": [
    "test=df.iloc[40001:,:]"
   ]
  },
  {
   "cell_type": "code",
   "execution_count": 23,
   "id": "60bbeeca",
   "metadata": {},
   "outputs": [],
   "source": [
    "from statsmodels.tsa.statespace.sarimax import SARIMAX"
   ]
  },
  {
   "cell_type": "code",
   "execution_count": 24,
   "id": "ab67ef02",
   "metadata": {},
   "outputs": [],
   "source": [
    "model_SARIMA=SARIMAX(train['Fault'],order=(3,0,5),seasonal_order=(0,1,0,12))"
   ]
  },
  {
   "cell_type": "code",
   "execution_count": 25,
   "id": "5cb984ce",
   "metadata": {},
   "outputs": [
    {
     "name": "stderr",
     "output_type": "stream",
     "text": [
      "C:\\Users\\ABISH\\anaconda3\\Lib\\site-packages\\statsmodels\\base\\model.py:604: ConvergenceWarning: Maximum Likelihood optimization failed to converge. Check mle_retvals\n",
      "  warnings.warn(\"Maximum Likelihood optimization failed to \"\n"
     ]
    }
   ],
   "source": [
    "model_SARIMA_fit=model_SARIMA.fit()"
   ]
  },
  {
   "cell_type": "code",
   "execution_count": 26,
   "id": "1665eab3",
   "metadata": {},
   "outputs": [
    {
     "data": {
      "text/html": [
       "<table class=\"simpletable\">\n",
       "<caption>SARIMAX Results</caption>\n",
       "<tr>\n",
       "  <th>Dep. Variable:</th>                <td>Fault</td>              <th>  No. Observations:  </th>    <td>40000</td>  \n",
       "</tr>\n",
       "<tr>\n",
       "  <th>Model:</th>           <td>SARIMAX(3, 0, 5)x(0, 1, [], 12)</td> <th>  Log Likelihood     </th>  <td>8051.090</td> \n",
       "</tr>\n",
       "<tr>\n",
       "  <th>Date:</th>                   <td>Thu, 24 Aug 2023</td>         <th>  AIC                </th> <td>-16084.180</td>\n",
       "</tr>\n",
       "<tr>\n",
       "  <th>Time:</th>                       <td>10:54:51</td>             <th>  BIC                </th> <td>-16006.813</td>\n",
       "</tr>\n",
       "<tr>\n",
       "  <th>Sample:</th>                         <td>0</td>                <th>  HQIC               </th> <td>-16059.691</td>\n",
       "</tr>\n",
       "<tr>\n",
       "  <th></th>                            <td> - 40000</td>             <th>                     </th>      <td> </td>    \n",
       "</tr>\n",
       "<tr>\n",
       "  <th>Covariance Type:</th>               <td>opg</td>               <th>                     </th>      <td> </td>    \n",
       "</tr>\n",
       "</table>\n",
       "<table class=\"simpletable\">\n",
       "<tr>\n",
       "     <td></td>       <th>coef</th>     <th>std err</th>      <th>z</th>      <th>P>|z|</th>  <th>[0.025</th>    <th>0.975]</th>  \n",
       "</tr>\n",
       "<tr>\n",
       "  <th>ar.L1</th>  <td>   -1.6714</td> <td>    0.028</td> <td>  -59.759</td> <td> 0.000</td> <td>   -1.726</td> <td>   -1.617</td>\n",
       "</tr>\n",
       "<tr>\n",
       "  <th>ar.L2</th>  <td>   -1.6364</td> <td>    0.023</td> <td>  -70.096</td> <td> 0.000</td> <td>   -1.682</td> <td>   -1.591</td>\n",
       "</tr>\n",
       "<tr>\n",
       "  <th>ar.L3</th>  <td>   -0.7980</td> <td>    0.026</td> <td>  -30.520</td> <td> 0.000</td> <td>   -0.849</td> <td>   -0.747</td>\n",
       "</tr>\n",
       "<tr>\n",
       "  <th>ma.L1</th>  <td>    1.5931</td> <td>    0.029</td> <td>   55.668</td> <td> 0.000</td> <td>    1.537</td> <td>    1.649</td>\n",
       "</tr>\n",
       "<tr>\n",
       "  <th>ma.L2</th>  <td>    1.3865</td> <td>    0.022</td> <td>   62.050</td> <td> 0.000</td> <td>    1.343</td> <td>    1.430</td>\n",
       "</tr>\n",
       "<tr>\n",
       "  <th>ma.L3</th>  <td>    0.4268</td> <td>    0.021</td> <td>   20.096</td> <td> 0.000</td> <td>    0.385</td> <td>    0.468</td>\n",
       "</tr>\n",
       "<tr>\n",
       "  <th>ma.L4</th>  <td>   -0.1695</td> <td>    0.012</td> <td>  -14.080</td> <td> 0.000</td> <td>   -0.193</td> <td>   -0.146</td>\n",
       "</tr>\n",
       "<tr>\n",
       "  <th>ma.L5</th>  <td>    0.0362</td> <td>    0.005</td> <td>    7.431</td> <td> 0.000</td> <td>    0.027</td> <td>    0.046</td>\n",
       "</tr>\n",
       "<tr>\n",
       "  <th>sigma2</th> <td>    0.0395</td> <td>    0.000</td> <td>  225.655</td> <td> 0.000</td> <td>    0.039</td> <td>    0.040</td>\n",
       "</tr>\n",
       "</table>\n",
       "<table class=\"simpletable\">\n",
       "<tr>\n",
       "  <th>Ljung-Box (L1) (Q):</th>     <td>0.04</td> <th>  Jarque-Bera (JB):  </th> <td>27005.87</td>\n",
       "</tr>\n",
       "<tr>\n",
       "  <th>Prob(Q):</th>                <td>0.85</td> <th>  Prob(JB):          </th>   <td>0.00</td>  \n",
       "</tr>\n",
       "<tr>\n",
       "  <th>Heteroskedasticity (H):</th> <td>1.07</td> <th>  Skew:              </th>   <td>-0.29</td> \n",
       "</tr>\n",
       "<tr>\n",
       "  <th>Prob(H) (two-sided):</th>    <td>0.00</td> <th>  Kurtosis:          </th>   <td>6.98</td>  \n",
       "</tr>\n",
       "</table><br/><br/>Warnings:<br/>[1] Covariance matrix calculated using the outer product of gradients (complex-step)."
      ],
      "text/plain": [
       "<class 'statsmodels.iolib.summary.Summary'>\n",
       "\"\"\"\n",
       "                                      SARIMAX Results                                      \n",
       "===========================================================================================\n",
       "Dep. Variable:                               Fault   No. Observations:                40000\n",
       "Model:             SARIMAX(3, 0, 5)x(0, 1, [], 12)   Log Likelihood                8051.090\n",
       "Date:                             Thu, 24 Aug 2023   AIC                         -16084.180\n",
       "Time:                                     10:54:51   BIC                         -16006.813\n",
       "Sample:                                          0   HQIC                        -16059.691\n",
       "                                           - 40000                                         \n",
       "Covariance Type:                               opg                                         \n",
       "==============================================================================\n",
       "                 coef    std err          z      P>|z|      [0.025      0.975]\n",
       "------------------------------------------------------------------------------\n",
       "ar.L1         -1.6714      0.028    -59.759      0.000      -1.726      -1.617\n",
       "ar.L2         -1.6364      0.023    -70.096      0.000      -1.682      -1.591\n",
       "ar.L3         -0.7980      0.026    -30.520      0.000      -0.849      -0.747\n",
       "ma.L1          1.5931      0.029     55.668      0.000       1.537       1.649\n",
       "ma.L2          1.3865      0.022     62.050      0.000       1.343       1.430\n",
       "ma.L3          0.4268      0.021     20.096      0.000       0.385       0.468\n",
       "ma.L4         -0.1695      0.012    -14.080      0.000      -0.193      -0.146\n",
       "ma.L5          0.0362      0.005      7.431      0.000       0.027       0.046\n",
       "sigma2         0.0395      0.000    225.655      0.000       0.039       0.040\n",
       "===================================================================================\n",
       "Ljung-Box (L1) (Q):                   0.04   Jarque-Bera (JB):             27005.87\n",
       "Prob(Q):                              0.85   Prob(JB):                         0.00\n",
       "Heteroskedasticity (H):               1.07   Skew:                            -0.29\n",
       "Prob(H) (two-sided):                  0.00   Kurtosis:                         6.98\n",
       "===================================================================================\n",
       "\n",
       "Warnings:\n",
       "[1] Covariance matrix calculated using the outer product of gradients (complex-step).\n",
       "\"\"\""
      ]
     },
     "execution_count": 26,
     "metadata": {},
     "output_type": "execute_result"
    }
   ],
   "source": [
    "model_SARIMA_fit.summary()"
   ]
  },
  {
   "cell_type": "code",
   "execution_count": 39,
   "id": "f54c092b",
   "metadata": {},
   "outputs": [
    {
     "data": {
      "text/html": [
       "<div>\n",
       "<style scoped>\n",
       "    .dataframe tbody tr th:only-of-type {\n",
       "        vertical-align: middle;\n",
       "    }\n",
       "\n",
       "    .dataframe tbody tr th {\n",
       "        vertical-align: top;\n",
       "    }\n",
       "\n",
       "    .dataframe thead th {\n",
       "        text-align: right;\n",
       "    }\n",
       "</style>\n",
       "<table border=\"1\" class=\"dataframe\">\n",
       "  <thead>\n",
       "    <tr style=\"text-align: right;\">\n",
       "      <th></th>\n",
       "      <th>Time</th>\n",
       "      <th>Fault</th>\n",
       "    </tr>\n",
       "  </thead>\n",
       "  <tbody>\n",
       "    <tr>\n",
       "      <th>0</th>\n",
       "      <td>0.00004</td>\n",
       "      <td>-0.053024</td>\n",
       "    </tr>\n",
       "    <tr>\n",
       "      <th>1</th>\n",
       "      <td>0.00008</td>\n",
       "      <td>0.073594</td>\n",
       "    </tr>\n",
       "    <tr>\n",
       "      <th>2</th>\n",
       "      <td>0.00012</td>\n",
       "      <td>-0.179009</td>\n",
       "    </tr>\n",
       "    <tr>\n",
       "      <th>3</th>\n",
       "      <td>0.00016</td>\n",
       "      <td>-0.016872</td>\n",
       "    </tr>\n",
       "    <tr>\n",
       "      <th>4</th>\n",
       "      <td>0.00020</td>\n",
       "      <td>0.014743</td>\n",
       "    </tr>\n",
       "    <tr>\n",
       "      <th>...</th>\n",
       "      <td>...</td>\n",
       "      <td>...</td>\n",
       "    </tr>\n",
       "    <tr>\n",
       "      <th>39995</th>\n",
       "      <td>1.59984</td>\n",
       "      <td>0.756468</td>\n",
       "    </tr>\n",
       "    <tr>\n",
       "      <th>39996</th>\n",
       "      <td>1.59988</td>\n",
       "      <td>0.153172</td>\n",
       "    </tr>\n",
       "    <tr>\n",
       "      <th>39997</th>\n",
       "      <td>1.59992</td>\n",
       "      <td>0.100294</td>\n",
       "    </tr>\n",
       "    <tr>\n",
       "      <th>39998</th>\n",
       "      <td>1.59996</td>\n",
       "      <td>-0.090915</td>\n",
       "    </tr>\n",
       "    <tr>\n",
       "      <th>39999</th>\n",
       "      <td>1.60000</td>\n",
       "      <td>-0.040118</td>\n",
       "    </tr>\n",
       "  </tbody>\n",
       "</table>\n",
       "<p>40000 rows × 2 columns</p>\n",
       "</div>"
      ],
      "text/plain": [
       "          Time     Fault\n",
       "0      0.00004 -0.053024\n",
       "1      0.00008  0.073594\n",
       "2      0.00012 -0.179009\n",
       "3      0.00016 -0.016872\n",
       "4      0.00020  0.014743\n",
       "...        ...       ...\n",
       "39995  1.59984  0.756468\n",
       "39996  1.59988  0.153172\n",
       "39997  1.59992  0.100294\n",
       "39998  1.59996 -0.090915\n",
       "39999  1.60000 -0.040118\n",
       "\n",
       "[40000 rows x 2 columns]"
      ]
     },
     "execution_count": 39,
     "metadata": {},
     "output_type": "execute_result"
    }
   ],
   "source": [
    "last=len(df)\n",
    "end=40000\n",
    "train=df.iloc[:end,:]\n",
    "train"
   ]
  },
  {
   "cell_type": "code",
   "execution_count": 40,
   "id": "30661910",
   "metadata": {},
   "outputs": [],
   "source": [
    "test=df.iloc[40001:last,:]"
   ]
  },
  {
   "cell_type": "code",
   "execution_count": 41,
   "id": "581080f8",
   "metadata": {},
   "outputs": [
    {
     "data": {
      "text/html": [
       "<div>\n",
       "<style scoped>\n",
       "    .dataframe tbody tr th:only-of-type {\n",
       "        vertical-align: middle;\n",
       "    }\n",
       "\n",
       "    .dataframe tbody tr th {\n",
       "        vertical-align: top;\n",
       "    }\n",
       "\n",
       "    .dataframe thead th {\n",
       "        text-align: right;\n",
       "    }\n",
       "</style>\n",
       "<table border=\"1\" class=\"dataframe\">\n",
       "  <thead>\n",
       "    <tr style=\"text-align: right;\">\n",
       "      <th></th>\n",
       "      <th>Time</th>\n",
       "      <th>Fault</th>\n",
       "    </tr>\n",
       "  </thead>\n",
       "  <tbody>\n",
       "    <tr>\n",
       "      <th>40001</th>\n",
       "      <td>1.60008</td>\n",
       "      <td>0.241387</td>\n",
       "    </tr>\n",
       "    <tr>\n",
       "      <th>40002</th>\n",
       "      <td>1.60012</td>\n",
       "      <td>0.112750</td>\n",
       "    </tr>\n",
       "    <tr>\n",
       "      <th>40003</th>\n",
       "      <td>1.60016</td>\n",
       "      <td>-0.060699</td>\n",
       "    </tr>\n",
       "    <tr>\n",
       "      <th>40004</th>\n",
       "      <td>1.60020</td>\n",
       "      <td>-0.148172</td>\n",
       "    </tr>\n",
       "    <tr>\n",
       "      <th>40005</th>\n",
       "      <td>1.60024</td>\n",
       "      <td>-0.072620</td>\n",
       "    </tr>\n",
       "    <tr>\n",
       "      <th>...</th>\n",
       "      <td>...</td>\n",
       "      <td>...</td>\n",
       "    </tr>\n",
       "    <tr>\n",
       "      <th>47994</th>\n",
       "      <td>1.91980</td>\n",
       "      <td>-0.043414</td>\n",
       "    </tr>\n",
       "    <tr>\n",
       "      <th>47995</th>\n",
       "      <td>1.91984</td>\n",
       "      <td>-0.265752</td>\n",
       "    </tr>\n",
       "    <tr>\n",
       "      <th>47996</th>\n",
       "      <td>1.91988</td>\n",
       "      <td>-0.207242</td>\n",
       "    </tr>\n",
       "    <tr>\n",
       "      <th>47997</th>\n",
       "      <td>1.91992</td>\n",
       "      <td>-0.051284</td>\n",
       "    </tr>\n",
       "    <tr>\n",
       "      <th>47998</th>\n",
       "      <td>1.91996</td>\n",
       "      <td>-0.033014</td>\n",
       "    </tr>\n",
       "  </tbody>\n",
       "</table>\n",
       "<p>7998 rows × 2 columns</p>\n",
       "</div>"
      ],
      "text/plain": [
       "          Time     Fault\n",
       "40001  1.60008  0.241387\n",
       "40002  1.60012  0.112750\n",
       "40003  1.60016 -0.060699\n",
       "40004  1.60020 -0.148172\n",
       "40005  1.60024 -0.072620\n",
       "...        ...       ...\n",
       "47994  1.91980 -0.043414\n",
       "47995  1.91984 -0.265752\n",
       "47996  1.91988 -0.207242\n",
       "47997  1.91992 -0.051284\n",
       "47998  1.91996 -0.033014\n",
       "\n",
       "[7998 rows x 2 columns]"
      ]
     },
     "execution_count": 41,
     "metadata": {},
     "output_type": "execute_result"
    }
   ],
   "source": [
    "test"
   ]
  },
  {
   "cell_type": "code",
   "execution_count": 43,
   "id": "242b845b",
   "metadata": {},
   "outputs": [],
   "source": [
    "forecast_feature1 = model_SARIMA_fit.get_prediction(start=train.index[0], end=train.index[-1])"
   ]
  },
  {
   "cell_type": "code",
   "execution_count": 44,
   "id": "107fb22e",
   "metadata": {},
   "outputs": [
    {
     "data": {
      "text/plain": [
       "<statsmodels.tsa.statespace.mlemodel.PredictionResultsWrapper at 0x2a8e928e8d0>"
      ]
     },
     "execution_count": 44,
     "metadata": {},
     "output_type": "execute_result"
    }
   ],
   "source": [
    "forecast_feature1"
   ]
  },
  {
   "cell_type": "code",
   "execution_count": 45,
   "id": "e196dda6",
   "metadata": {},
   "outputs": [],
   "source": [
    "predicted_feature1 = forecast_feature1.predicted_mean"
   ]
  },
  {
   "cell_type": "code",
   "execution_count": 46,
   "id": "df79051f",
   "metadata": {},
   "outputs": [
    {
     "data": {
      "text/plain": [
       "0        0.000000e+00\n",
       "1        3.862335e-10\n",
       "2        9.292656e-11\n",
       "3        7.350208e-12\n",
       "4        2.565590e-09\n",
       "             ...     \n",
       "39995    3.103253e-01\n",
       "39996    1.242964e-01\n",
       "39997   -2.530749e-01\n",
       "39998   -1.612170e-01\n",
       "39999    3.178935e-02\n",
       "Name: predicted_mean, Length: 40000, dtype: float64"
      ]
     },
     "execution_count": 46,
     "metadata": {},
     "output_type": "execute_result"
    }
   ],
   "source": [
    "predicted_feature1"
   ]
  },
  {
   "cell_type": "code",
   "execution_count": 50,
   "id": "78b323d7",
   "metadata": {},
   "outputs": [],
   "source": [
    "x=train[['Fault']]"
   ]
  },
  {
   "cell_type": "code",
   "execution_count": 59,
   "id": "bed4a614",
   "metadata": {},
   "outputs": [
    {
     "data": {
      "text/plain": [
       "<matplotlib.collections.PathCollection at 0x2a8ef986450>"
      ]
     },
     "execution_count": 59,
     "metadata": {},
     "output_type": "execute_result"
    },
    {
     "data": {
      "image/png": "[encoded data removed]",
      "text/plain": [
       "<Figure size 640x480 with 1 Axes>"
      ]
     },
     "metadata": {},
     "output_type": "display_data"
    }
   ],
   "source": [
    "plt.scatter(x,predicted_feature1,c='red')"
   ]
  },
  {
   "cell_type": "code",
   "execution_count": 56,
   "id": "e85d2e24",
   "metadata": {},
   "outputs": [
    {
     "data": {
      "text/plain": [
       "0       -0.053024\n",
       "1        0.073593\n",
       "2       -0.179009\n",
       "3       -0.016872\n",
       "4        0.014743\n",
       "           ...   \n",
       "39995    0.446143\n",
       "39996    0.028876\n",
       "39997    0.353369\n",
       "39998    0.070302\n",
       "39999   -0.071907\n",
       "Length: 40000, dtype: float64"
      ]
     },
     "execution_count": 56,
     "metadata": {},
     "output_type": "execute_result"
    }
   ],
   "source": [
    "resiuduals=train['Fault']-predicted_feature1\n",
    "resiuduals"
   ]
  },
  {
   "cell_type": "code",
   "execution_count": 57,
   "id": "59087d9b",
   "metadata": {},
   "outputs": [
    {
     "data": {
      "text/plain": [
       "<Axes: ylabel='Density'>"
      ]
     },
     "execution_count": 57,
     "metadata": {},
     "output_type": "execute_result"
    },
    {
     "data": {
      "image/png": "[encoded data removed]",
      "text/plain": [
       "<Figure size 640x480 with 1 Axes>"
      ]
     },
     "metadata": {},
     "output_type": "display_data"
    }
   ],
   "source": [
    "resiuduals.plot(kind='kde')"
   ]
  },
  {
   "cell_type": "code",
   "execution_count": 60,
   "id": "30989069",
   "metadata": {},
   "outputs": [
    {
     "name": "stderr",
     "output_type": "stream",
     "text": [
      "C:\\Users\\ABISH\\AppData\\Local\\Temp\\ipykernel_15696\\662139946.py:1: SettingWithCopyWarning: \n",
      "A value is trying to be set on a copy of a slice from a DataFrame.\n",
      "Try using .loc[row_indexer,col_indexer] = value instead\n",
      "\n",
      "See the caveats in the documentation: https://pandas.pydata.org/pandas-docs/stable/user_guide/indexing.html#returning-a-view-versus-a-copy\n",
      "  train['predicted']=predicted_feature1\n"
     ]
    }
   ],
   "source": [
    "train['predicted']=predicted_feature1"
   ]
  },
  {
   "cell_type": "code",
   "execution_count": 61,
   "id": "2f347b0d",
   "metadata": {},
   "outputs": [
    {
     "data": {
      "text/html": [
       "<div>\n",
       "<style scoped>\n",
       "    .dataframe tbody tr th:only-of-type {\n",
       "        vertical-align: middle;\n",
       "    }\n",
       "\n",
       "    .dataframe tbody tr th {\n",
       "        vertical-align: top;\n",
       "    }\n",
       "\n",
       "    .dataframe thead th {\n",
       "        text-align: right;\n",
       "    }\n",
       "</style>\n",
       "<table border=\"1\" class=\"dataframe\">\n",
       "  <thead>\n",
       "    <tr style=\"text-align: right;\">\n",
       "      <th></th>\n",
       "      <th>Time</th>\n",
       "      <th>Fault</th>\n",
       "      <th>predicted</th>\n",
       "    </tr>\n",
       "  </thead>\n",
       "  <tbody>\n",
       "    <tr>\n",
       "      <th>0</th>\n",
       "      <td>0.00004</td>\n",
       "      <td>-0.053024</td>\n",
       "      <td>0.000000e+00</td>\n",
       "    </tr>\n",
       "    <tr>\n",
       "      <th>1</th>\n",
       "      <td>0.00008</td>\n",
       "      <td>0.073594</td>\n",
       "      <td>3.862335e-10</td>\n",
       "    </tr>\n",
       "    <tr>\n",
       "      <th>2</th>\n",
       "      <td>0.00012</td>\n",
       "      <td>-0.179009</td>\n",
       "      <td>9.292656e-11</td>\n",
       "    </tr>\n",
       "    <tr>\n",
       "      <th>3</th>\n",
       "      <td>0.00016</td>\n",
       "      <td>-0.016872</td>\n",
       "      <td>7.350208e-12</td>\n",
       "    </tr>\n",
       "    <tr>\n",
       "      <th>4</th>\n",
       "      <td>0.00020</td>\n",
       "      <td>0.014743</td>\n",
       "      <td>2.565590e-09</td>\n",
       "    </tr>\n",
       "    <tr>\n",
       "      <th>...</th>\n",
       "      <td>...</td>\n",
       "      <td>...</td>\n",
       "      <td>...</td>\n",
       "    </tr>\n",
       "    <tr>\n",
       "      <th>39995</th>\n",
       "      <td>1.59984</td>\n",
       "      <td>0.756468</td>\n",
       "      <td>3.103253e-01</td>\n",
       "    </tr>\n",
       "    <tr>\n",
       "      <th>39996</th>\n",
       "      <td>1.59988</td>\n",
       "      <td>0.153172</td>\n",
       "      <td>1.242964e-01</td>\n",
       "    </tr>\n",
       "    <tr>\n",
       "      <th>39997</th>\n",
       "      <td>1.59992</td>\n",
       "      <td>0.100294</td>\n",
       "      <td>-2.530749e-01</td>\n",
       "    </tr>\n",
       "    <tr>\n",
       "      <th>39998</th>\n",
       "      <td>1.59996</td>\n",
       "      <td>-0.090915</td>\n",
       "      <td>-1.612170e-01</td>\n",
       "    </tr>\n",
       "    <tr>\n",
       "      <th>39999</th>\n",
       "      <td>1.60000</td>\n",
       "      <td>-0.040118</td>\n",
       "      <td>3.178935e-02</td>\n",
       "    </tr>\n",
       "  </tbody>\n",
       "</table>\n",
       "<p>40000 rows × 3 columns</p>\n",
       "</div>"
      ],
      "text/plain": [
       "          Time     Fault     predicted\n",
       "0      0.00004 -0.053024  0.000000e+00\n",
       "1      0.00008  0.073594  3.862335e-10\n",
       "2      0.00012 -0.179009  9.292656e-11\n",
       "3      0.00016 -0.016872  7.350208e-12\n",
       "4      0.00020  0.014743  2.565590e-09\n",
       "...        ...       ...           ...\n",
       "39995  1.59984  0.756468  3.103253e-01\n",
       "39996  1.59988  0.153172  1.242964e-01\n",
       "39997  1.59992  0.100294 -2.530749e-01\n",
       "39998  1.59996 -0.090915 -1.612170e-01\n",
       "39999  1.60000 -0.040118  3.178935e-02\n",
       "\n",
       "[40000 rows x 3 columns]"
      ]
     },
     "execution_count": 61,
     "metadata": {},
     "output_type": "execute_result"
    }
   ],
   "source": [
    "train"
   ]
  },
  {
   "cell_type": "code",
   "execution_count": 58,
   "id": "925a8ca2",
   "metadata": {},
   "outputs": [],
   "source": [
    "from sklearn.metrics import mean_absolute_error, mean_squared_error\n",
    "import numpy as np\n"
   ]
  },
  {
   "cell_type": "code",
   "execution_count": 62,
   "id": "d5e87b42",
   "metadata": {},
   "outputs": [],
   "source": [
    "actual=train['Fault']\n",
    "predicted=train['predicted']"
   ]
  },
  {
   "cell_type": "code",
   "execution_count": 63,
   "id": "d72f0420",
   "metadata": {},
   "outputs": [],
   "source": [
    "mae = mean_absolute_error(actual, predicted)"
   ]
  },
  {
   "cell_type": "code",
   "execution_count": 65,
   "id": "45eb7198",
   "metadata": {},
   "outputs": [
    {
     "name": "stdout",
     "output_type": "stream",
     "text": [
      "Mean Absolute Error (MAE): 0.13943560870627056\n",
      "Mean Squared Error (MSE): 0.039133857870932175\n",
      "Root Mean Squared Error (RMSE): 0.19782279411365156\n"
     ]
    }
   ],
   "source": [
    "\n",
    "mae = mean_absolute_error(actual, predicted)\n",
    "mse = mean_squared_error(actual, predicted)\n",
    "rmse = np.sqrt(mse)\n",
    "\n",
    "print(f\"Mean Absolute Error (MAE): {mae}\")\n",
    "print(f\"Mean Squared Error (MSE): {mse}\")\n",
    "print(f\"Root Mean Squared Error (RMSE): {rmse}\")"
   ]
  },
  {
   "cell_type": "code",
   "execution_count": 66,
   "id": "237f15cf",
   "metadata": {},
   "outputs": [
    {
     "data": {
      "text/plain": [
       "<Axes: >"
      ]
     },
     "execution_count": 66,
     "metadata": {},
     "output_type": "execute_result"
    },
    {
     "data": {
      "image/png": "[encoded data removed]",
      "text/plain": [
       "<Figure size 640x480 with 1 Axes>"
      ]
     },
     "metadata": {},
     "output_type": "display_data"
    }
   ],
   "source": [
    "train[['Fault','predicted']].plot()"
   ]
  },
  {
   "cell_type": "code",
   "execution_count": 2,
   "id": "a662c7cd",
   "metadata": {},
   "outputs": [
    {
     "ename": "NameError",
     "evalue": "name 'actual' is not defined",
     "output_type": "error",
     "traceback": [
      "\u001b[1;31m---------------------------------------------------------------------------\u001b[0m",
      "\u001b[1;31mNameError\u001b[0m                                 Traceback (most recent call last)",
      "Cell \u001b[1;32mIn[2], line 4\u001b[0m\n\u001b[0;32m      1\u001b[0m \u001b[38;5;28;01mimport\u001b[39;00m \u001b[38;5;21;01mnumpy\u001b[39;00m \u001b[38;5;28;01mas\u001b[39;00m \u001b[38;5;21;01mnp\u001b[39;00m\n\u001b[0;32m      2\u001b[0m \u001b[38;5;28;01mfrom\u001b[39;00m \u001b[38;5;21;01msklearn\u001b[39;00m\u001b[38;5;21;01m.\u001b[39;00m\u001b[38;5;21;01mmetrics\u001b[39;00m \u001b[38;5;28;01mimport\u001b[39;00m mean_squared_error\n\u001b[1;32m----> 4\u001b[0m rmse \u001b[38;5;241m=\u001b[39m np\u001b[38;5;241m.\u001b[39msqrt(mean_squared_error(actual, predicted))\n\u001b[0;32m      6\u001b[0m target_range \u001b[38;5;241m=\u001b[39m np\u001b[38;5;241m.\u001b[39mmax(actual) \u001b[38;5;241m-\u001b[39m np\u001b[38;5;241m.\u001b[39mmin(actual)\n\u001b[0;32m      8\u001b[0m percentage_accuracy \u001b[38;5;241m=\u001b[39m (\u001b[38;5;241m1.0\u001b[39m \u001b[38;5;241m-\u001b[39m (rmse \u001b[38;5;241m/\u001b[39m target_range)) \u001b[38;5;241m*\u001b[39m \u001b[38;5;241m100\u001b[39m\n",
      "\u001b[1;31mNameError\u001b[0m: name 'actual' is not defined"
     ]
    }
   ],
   "source": [
    "import numpy as np\n",
    "from sklearn.metrics import mean_squared_error\n",
    "\n",
    "rmse = np.sqrt(mean_squared_error(actual, predicted))\n",
    "\n",
    "target_range = np.max(actual) - np.min(actual)\n",
    "\n",
    "percentage_accuracy = (1.0 - (rmse / target_range)) * 100"
   ]
  },
  {
   "cell_type": "code",
   "execution_count": null,
   "id": "554fecbe",
   "metadata": {},
   "outputs": [],
   "source": []
  }
 ],
 "metadata": {
  "kernelspec": {
   "display_name": "Python 3 (ipykernel)",
   "language": "python",
   "name": "python3"
  },
  "language_info": {
   "codemirror_mode": {
    "name": "ipython",
    "version": 3
   },
   "file_extension": ".py",
   "mimetype": "text/x-python",
   "name": "python",
   "nbconvert_exporter": "python",
   "pygments_lexer": "ipython3",
   "version": "3.11.4"
  }
 },
 "nbformat": 4,
 "nbformat_minor": 5
}
